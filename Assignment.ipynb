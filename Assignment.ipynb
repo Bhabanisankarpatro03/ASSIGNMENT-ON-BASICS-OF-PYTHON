{
 "cells": [
  {
   "cell_type": "markdown",
   "id": "a2e37a99-b939-4118-9552-33b5968e6fba",
   "metadata": {},
   "source": [
    "Q1) Explian the key features of python that make it a popular choice for programming ."
   ]
  },
  {
   "cell_type": "markdown",
   "id": "30b42f56-d403-45f0-93f8-6d5f846f2c7b",
   "metadata": {},
   "source": [
    "Python's popularity as a programming language stems from a combination of features that make it beginner-friendly, powerful, and versatile. Here are some of the key reasons why Python is so widely used:\n",
    "\n",
    "->Readability and Simplicity\n",
    "\n",
    "->Extensive Standard Library\n",
    "\n",
    "->Cross-Platform Compatibility\n",
    "\n",
    "->Dynamic Typing and Binding\n",
    "\n",
    "->Strong Community Support\n",
    "\n",
    "->Object-Oriented Programming (OOP) Capabilities\n",
    "\n",
    "->Wide Range of Libraries and Frameworks\n",
    "\n",
    "->Versatility\n",
    "\n",
    "->REPL Environment\n",
    "\n",
    "->Community-Driven Updates and PEPs"
   ]
  },
  {
   "cell_type": "markdown",
   "id": "9deba178-871d-4c06-bc59-721bbe0edd24",
   "metadata": {},
   "source": [
    "Q2) Describe the role of prodefined keywords in Python and provide examples of how they are used in a program ."
   ]
  },
  {
   "cell_type": "markdown",
   "id": "ff09fd6f-7f0b-4945-ab9e-15f63e169133",
   "metadata": {},
   "source": [
    "In Python, predefined keywords are special reserved words that have specific meanings and purposes within the language's syntax. These keywords cannot be used for anything other than their intended functions, such as naming variables, functions, or classes. Here's a breakdown of their role and some examples:"
   ]
  },
  {
   "cell_type": "markdown",
   "id": "c61d4264-9d2c-49dd-9397-71566ac8b5ca",
   "metadata": {},
   "source": [
    "=> \"Def\" is used to define functions, which are reusable blocks of code. For example:"
   ]
  },
  {
   "cell_type": "code",
   "execution_count": 5,
   "id": "cbc45ebe-3693-4120-95cf-fd6d35d33350",
   "metadata": {},
   "outputs": [
    {
     "name": "stdout",
     "output_type": "stream",
     "text": [
      "Hello Raja!\n"
     ]
    }
   ],
   "source": [
    "print(\"Hello Raja!\")"
   ]
  },
  {
   "cell_type": "markdown",
   "id": "9824a7fa-9acc-4e8b-adac-819d3bd63c22",
   "metadata": {},
   "source": [
    "=>if/else statements control the flow of your program based on conditions. For example:"
   ]
  },
  {
   "cell_type": "code",
   "execution_count": 6,
   "id": "702526a2-2fe5-4954-90c6-677710ea1af4",
   "metadata": {},
   "outputs": [
    {
     "name": "stdout",
     "output_type": "stream",
     "text": [
      "x is greater than 5\n"
     ]
    }
   ],
   "source": [
    "x = 10\n",
    "if x > 5:\n",
    "    print(\"x is greater than 5\")\n",
    "else:\n",
    "    print(\"x is not greater than 5\")"
   ]
  },
  {
   "cell_type": "markdown",
   "id": "ed045343-db29-487c-81c4-6b3e198f8252",
   "metadata": {},
   "source": [
    "=>Data Handling: Keywords like TrueandFalse represent boolean values and the null value."
   ]
  },
  {
   "cell_type": "code",
   "execution_count": 7,
   "id": "2c905d97-891d-4860-acab-bf57d9aec744",
   "metadata": {},
   "outputs": [
    {
     "name": "stdout",
     "output_type": "stream",
     "text": [
      "True\n"
     ]
    }
   ],
   "source": [
    "is_sunny =True\n",
    "is_raining = False\n",
    "print(is_sunny)"
   ]
  },
  {
   "cell_type": "markdown",
   "id": "df2cf36e-29c7-47e9-8189-21b4b3e06aa0",
   "metadata": {},
   "source": [
    "=>Looping and Iteration: Keywords like for and while are used to create loops that execute code repeatedly."
   ]
  },
  {
   "cell_type": "code",
   "execution_count": 8,
   "id": "8478f826-2c5b-401e-b26c-c6b3543b260d",
   "metadata": {},
   "outputs": [
    {
     "name": "stdout",
     "output_type": "stream",
     "text": [
      "fruit\n"
     ]
    }
   ],
   "source": [
    "fruits = [\"apple\", \"banana\", \"cherry\"]\n",
    "for fruit in fruits: \"bannna\" \n",
    "print(\"fruit\")"
   ]
  },
  {
   "cell_type": "markdown",
   "id": "c54d2b48-8c4e-4c41-81b6-3cf3cd07776f",
   "metadata": {},
   "source": [
    "=>while loops execute code as long as a certain condition is met. For example:"
   ]
  },
  {
   "cell_type": "code",
   "execution_count": 9,
   "id": "e2c10896-cf8b-407e-9165-cb92be11eb0c",
   "metadata": {},
   "outputs": [
    {
     "name": "stdout",
     "output_type": "stream",
     "text": [
      "Loop iteration: 1\n",
      "Loop iteration: 2\n",
      "Loop iteration: 3\n",
      "Loop iteration: 4\n",
      "Loop iteration: 5\n"
     ]
    }
   ],
   "source": [
    "i=1\n",
    "while i <= 5:\n",
    "    print(\"Loop iteration:\",i)\n",
    "    i += 1"
   ]
  },
  {
   "cell_type": "markdown",
   "id": "7a3c8f2b-f40d-4106-84db-f6bbff8fa192",
   "metadata": {},
   "source": [
    "Q3)Compare and contrast mutable and immutable objects in Python with examples\n"
   ]
  },
  {
   "cell_type": "markdown",
   "id": "3e55746f-345d-47b7-8a3c-f0726f574ce7",
   "metadata": {},
   "source": [
    "Mutable Objects:\n",
    "\n",
    "Modifiable: The content or elements of a mutable object can be changed after it's created. Examples: Lists, dictionaries, and sets. Behavior: Python creates a single reference to the object's memory location. When you modify the object, you're essentially changing the data at that location."
   ]
  },
  {
   "cell_type": "code",
   "execution_count": 10,
   "id": "39fb65d1-d861-4650-bf98-672765178593",
   "metadata": {},
   "outputs": [
    {
     "name": "stdout",
     "output_type": "stream",
     "text": [
      "{1, 2, 3, 7}\n"
     ]
    }
   ],
   "source": [
    "my_set= {1,2,3}\n",
    "my_set.add(7)\n",
    "print(my_set)"
   ]
  },
  {
   "cell_type": "markdown",
   "id": "2ee49aec-e7cb-406e-bbba-1742a7066e9d",
   "metadata": {},
   "source": [
    "Immutable Objects:\n",
    "\n",
    "Unmodifiable: The value of an immutable object cannot be changed after it's created. Examples: Strings, integers, floats, booleans, and tuples. Behavior: When you try to modify an immutable object, Python creates a new object in memory with the changes, and the original object remains untouched."
   ]
  },
  {
   "cell_type": "code",
   "execution_count": 11,
   "id": "f4ace6fa-504e-4248-b5c4-22a65b0726b5",
   "metadata": {},
   "outputs": [
    {
     "name": "stdout",
     "output_type": "stream",
     "text": [
      "Hello\n"
     ]
    }
   ],
   "source": [
    "my_string = \"Hello\"\n",
    "print(my_string)"
   ]
  },
  {
   "cell_type": "markdown",
   "id": "b4b23fd0-5f2f-47ab-bc3e-3355e35a6baf",
   "metadata": {},
   "source": [
    "Key Differences:\n",
    "\n",
    "Modification: Mutable objects can be directly modified, while immutable objects cannot."
   ]
  },
  {
   "cell_type": "markdown",
   "id": "d343d483-9e46-4c2a-9296-11df8952ab01",
   "metadata": {},
   "source": [
    "Q4) Discuss the different types of operators in Python and provide examples ."
   ]
  },
  {
   "cell_type": "markdown",
   "id": "88c1451b-6d3e-4e98-b6d3-f6d86b51e8bb",
   "metadata": {},
   "source": [
    "1. Arithmetic Operators:"
   ]
  },
  {
   "cell_type": "markdown",
   "id": "898b5139-c30b-48e9-9f73-0c5be8d1ef7c",
   "metadata": {},
   "source": [
    "* Addition "
   ]
  },
  {
   "cell_type": "code",
   "execution_count": 12,
   "id": "0f089cac-2eb1-45c7-8f6c-4b46199139d3",
   "metadata": {},
   "outputs": [
    {
     "data": {
      "text/plain": [
       "8"
      ]
     },
     "execution_count": 12,
     "metadata": {},
     "output_type": "execute_result"
    }
   ],
   "source": [
    "5+3"
   ]
  },
  {
   "cell_type": "markdown",
   "id": "a15ce17d-1d06-4b92-af7b-7665d18ba49e",
   "metadata": {},
   "source": [
    "* Subtraction"
   ]
  },
  {
   "cell_type": "code",
   "execution_count": 15,
   "id": "dd6b32fa-c295-41b5-bd2e-ebd728fc2d4b",
   "metadata": {},
   "outputs": [
    {
     "data": {
      "text/plain": [
       "8"
      ]
     },
     "execution_count": 15,
     "metadata": {},
     "output_type": "execute_result"
    }
   ],
   "source": [
    "10-2"
   ]
  },
  {
   "cell_type": "markdown",
   "id": "8c4d939f-c140-42a3-8ed8-2963ab0ca728",
   "metadata": {},
   "source": [
    "* Multiplication"
   ]
  },
  {
   "cell_type": "code",
   "execution_count": 16,
   "id": "8cae0d0a-b572-40b8-adcd-6407658085de",
   "metadata": {},
   "outputs": [
    {
     "data": {
      "text/plain": [
       "8"
      ]
     },
     "execution_count": 16,
     "metadata": {},
     "output_type": "execute_result"
    }
   ],
   "source": [
    "2*4"
   ]
  },
  {
   "cell_type": "markdown",
   "id": "b5199c91-01be-42e6-9185-af4314365124",
   "metadata": {},
   "source": [
    "* Division"
   ]
  },
  {
   "cell_type": "code",
   "execution_count": 17,
   "id": "b6862d59-dba9-48ff-9989-327dc045407c",
   "metadata": {},
   "outputs": [
    {
     "data": {
      "text/plain": [
       "8.0"
      ]
     },
     "execution_count": 17,
     "metadata": {},
     "output_type": "execute_result"
    }
   ],
   "source": [
    "16/2"
   ]
  },
  {
   "cell_type": "markdown",
   "id": "9cfec979-c9a0-4718-9ce4-cd491e2fc1cc",
   "metadata": {},
   "source": [
    "* Floor division "
   ]
  },
  {
   "cell_type": "code",
   "execution_count": 18,
   "id": "e31c8055-7d0c-4c5b-9d48-98289cf45440",
   "metadata": {},
   "outputs": [
    {
     "data": {
      "text/plain": [
       "2"
      ]
     },
     "execution_count": 18,
     "metadata": {},
     "output_type": "execute_result"
    }
   ],
   "source": [
    "11//4"
   ]
  },
  {
   "cell_type": "markdown",
   "id": "1ce76189-87dd-42d3-afd2-e922dca487e1",
   "metadata": {},
   "source": [
    "* Modulo"
   ]
  },
  {
   "cell_type": "code",
   "execution_count": 19,
   "id": "f707c62f-4cc4-48d7-9c29-e845ae174c85",
   "metadata": {},
   "outputs": [
    {
     "data": {
      "text/plain": [
       "3"
      ]
     },
     "execution_count": 19,
     "metadata": {},
     "output_type": "execute_result"
    }
   ],
   "source": [
    "11%4"
   ]
  },
  {
   "cell_type": "markdown",
   "id": "02e62c44-b6de-4af1-943b-c399ded314dc",
   "metadata": {},
   "source": [
    "* Exponentiation"
   ]
  },
  {
   "cell_type": "code",
   "execution_count": 20,
   "id": "ba1b3677-a03e-481d-976e-1d34db886df3",
   "metadata": {},
   "outputs": [
    {
     "data": {
      "text/plain": [
       "8"
      ]
     },
     "execution_count": 20,
     "metadata": {},
     "output_type": "execute_result"
    }
   ],
   "source": [
    "2**3"
   ]
  },
  {
   "cell_type": "markdown",
   "id": "5b53ee6a-182e-4d62-9abc-19e0393cbe15",
   "metadata": {},
   "source": [
    "2. Comparison Operators :"
   ]
  },
  {
   "cell_type": "markdown",
   "id": "5c4aba9a-2f50-4791-9ef5-09c48c9a22eb",
   "metadata": {},
   "source": [
    "* Equal to"
   ]
  },
  {
   "cell_type": "code",
   "execution_count": 21,
   "id": "8aac4251-16df-4585-bbc3-5cca201c883b",
   "metadata": {},
   "outputs": [
    {
     "name": "stdout",
     "output_type": "stream",
     "text": [
      "x and y are equal\n"
     ]
    }
   ],
   "source": [
    "x=3\n",
    "y=3\n",
    "#Check if x is equal to y\n",
    "if x==y:\n",
    "    print(\"x and y are equal\")\n",
    "else: \n",
    "    print(\"x and y are not equal\")"
   ]
  },
  {
   "cell_type": "markdown",
   "id": "62adc188-414b-452c-b0bf-a0f3213aaf75",
   "metadata": {},
   "source": [
    "* Not equal to"
   ]
  },
  {
   "cell_type": "code",
   "execution_count": 22,
   "id": "0a6fcd3f-9fbb-49f3-8f30-7daa02521c85",
   "metadata": {},
   "outputs": [
    {
     "name": "stdout",
     "output_type": "stream",
     "text": [
      "x and y are not equal\n"
     ]
    }
   ],
   "source": [
    "x=3\n",
    "y=5\n",
    "#Check if x is equal to y\n",
    "if x==y:\n",
    "    print(\"x and y are equal\")\n",
    "else: \n",
    "    print(\"x and y are not equal\")"
   ]
  },
  {
   "cell_type": "markdown",
   "id": "7df0540d-c285-4a01-949b-ed7a77e6845f",
   "metadata": {},
   "source": [
    "* Greater than"
   ]
  },
  {
   "cell_type": "code",
   "execution_count": 24,
   "id": "e6f55fd7-e254-44ae-8201-7730072c8ce7",
   "metadata": {},
   "outputs": [
    {
     "name": "stdout",
     "output_type": "stream",
     "text": [
      "x is less than y\n"
     ]
    }
   ],
   "source": [
    "x=3\n",
    "y=5\n",
    "#Check if x is greater and less to y\n",
    "if x<y:\n",
    "    print(\"x is less than y\")"
   ]
  },
  {
   "cell_type": "markdown",
   "id": "1474ece0-8f92-47eb-81ef-fdf7bf69bb12",
   "metadata": {},
   "source": [
    "* Greater than or equal to"
   ]
  },
  {
   "cell_type": "code",
   "execution_count": 25,
   "id": "64780d55-e8fc-4d34-8131-4cf72a99fc44",
   "metadata": {},
   "outputs": [
    {
     "name": "stdout",
     "output_type": "stream",
     "text": [
      "x is greater than equal to y\n"
     ]
    }
   ],
   "source": [
    "x=3\n",
    "y=3\n",
    "#Check if x is greater and less to y\n",
    "if x>=y:\n",
    "    print(\"x is greater than equal to y\")"
   ]
  },
  {
   "cell_type": "markdown",
   "id": "c94f6cc7-5786-408e-a2fd-d78763ee27b2",
   "metadata": {},
   "source": [
    "* Less than or equal to"
   ]
  },
  {
   "cell_type": "code",
   "execution_count": 26,
   "id": "14204d80-d0fb-4953-8e25-8ec490e55ff0",
   "metadata": {},
   "outputs": [
    {
     "name": "stdout",
     "output_type": "stream",
     "text": [
      "x is less than equal to y\n"
     ]
    }
   ],
   "source": [
    "x=5\n",
    "y=5\n",
    "#Check if x is greater and less to y\n",
    "if x<=y:\n",
    "    print(\"x is less than equal to y\")"
   ]
  },
  {
   "cell_type": "markdown",
   "id": "435a24a0-4c1a-452e-8b70-36adb7f39f71",
   "metadata": {},
   "source": [
    "3. Assignment Operators:"
   ]
  },
  {
   "cell_type": "markdown",
   "id": "331669d0-202b-4a87-babc-0c62ff3b1a3c",
   "metadata": {},
   "source": [
    "* Simple assignment"
   ]
  },
  {
   "cell_type": "code",
   "execution_count": 27,
   "id": "7843f3ee-3843-4306-8d62-110339c36bbb",
   "metadata": {},
   "outputs": [
    {
     "name": "stdout",
     "output_type": "stream",
     "text": [
      "7\n"
     ]
    }
   ],
   "source": [
    "x=7\n",
    "y=2\n",
    "#Assign the value of x to y \n",
    "y=x\n",
    "print(y)"
   ]
  },
  {
   "cell_type": "markdown",
   "id": "613fea49-948a-41b0-8c27-86ba0d61be4b",
   "metadata": {},
   "source": [
    "* Add and assign"
   ]
  },
  {
   "cell_type": "code",
   "execution_count": 28,
   "id": "ba1c0667-6000-4bb6-849f-ca584f36d9ae",
   "metadata": {},
   "outputs": [
    {
     "name": "stdout",
     "output_type": "stream",
     "text": [
      "12\n"
     ]
    }
   ],
   "source": [
    "x=7\n",
    "x+=5\n",
    "print(x)"
   ]
  },
  {
   "cell_type": "markdown",
   "id": "1d313aa1-2dcf-4051-8b6c-3458cbf7bf4a",
   "metadata": {},
   "source": [
    "* Subtract and assign"
   ]
  },
  {
   "cell_type": "code",
   "execution_count": 29,
   "id": "dacbcb84-c0ec-4d8f-b8a8-668911f2a426",
   "metadata": {},
   "outputs": [
    {
     "name": "stdout",
     "output_type": "stream",
     "text": [
      "12\n"
     ]
    }
   ],
   "source": [
    "x=14\n",
    "x-=2\n",
    "print(x)"
   ]
  },
  {
   "cell_type": "markdown",
   "id": "47c90055-debb-4bf1-a46f-b3f2c5ffc0b0",
   "metadata": {},
   "source": [
    "* Multiply and assign"
   ]
  },
  {
   "cell_type": "code",
   "execution_count": 30,
   "id": "58f7c37e-51d8-439d-83ae-085e2aeb44b8",
   "metadata": {},
   "outputs": [
    {
     "name": "stdout",
     "output_type": "stream",
     "text": [
      "12\n"
     ]
    }
   ],
   "source": [
    "x=4\n",
    "x*=3\n",
    "print(x)"
   ]
  },
  {
   "cell_type": "markdown",
   "id": "bf850ba2-75e6-45a2-9d91-3971c75c5fb0",
   "metadata": {},
   "source": [
    "4. Logical Operators:"
   ]
  },
  {
   "cell_type": "markdown",
   "id": "0a2d1123-966b-42fe-9670-461dd408bb44",
   "metadata": {},
   "source": [
    "EXAMPLE"
   ]
  },
  {
   "cell_type": "code",
   "execution_count": 31,
   "id": "a4cb323f-ff2b-4e39-9edb-7993513e6cfd",
   "metadata": {},
   "outputs": [
    {
     "name": "stdout",
     "output_type": "stream",
     "text": [
      "you are raja and you are above 20 years old\n"
     ]
    }
   ],
   "source": [
    "age=25\n",
    "name=\"raja\"\n",
    "#Check if age is greater than 20nand name is equal to \"raja\"\n",
    "if age > 20 and name==\"raja\":\n",
    "    print(\"you are raja and you are above 20 years old\")"
   ]
  },
  {
   "cell_type": "markdown",
   "id": "d2c79ab5-ead6-4f07-b896-34938ad6c66b",
   "metadata": {},
   "source": [
    "5. Bitwise Operators:"
   ]
  },
  {
   "cell_type": "markdown",
   "id": "8db4dbfc-2e72-4d0a-8e1f-a2c3757c6da9",
   "metadata": {},
   "source": [
    "* & (bitwise AND): "
   ]
  },
  {
   "cell_type": "code",
   "execution_count": 32,
   "id": "a9dfdaa7-6c62-4a3c-8cad-2db49e17c60c",
   "metadata": {},
   "outputs": [
    {
     "name": "stdout",
     "output_type": "stream",
     "text": [
      "4\n"
     ]
    }
   ],
   "source": [
    "x=6 # 0110\n",
    "y=5 # 0101\n",
    "result = x & y # perfroms bitwise AND on x and y\n",
    "print(result)"
   ]
  },
  {
   "cell_type": "markdown",
   "id": "e89b7dcc-136d-4fb1-a2db-701a23ce2fbd",
   "metadata": {},
   "source": [
    "* | (bitwise OR): x | y"
   ]
  },
  {
   "cell_type": "code",
   "execution_count": 33,
   "id": "cd34a62e-f8ee-410d-8824-943782b78c3e",
   "metadata": {},
   "outputs": [
    {
     "name": "stdout",
     "output_type": "stream",
     "text": [
      "7\n"
     ]
    }
   ],
   "source": [
    "x=6 # 0110\n",
    "y=5 # 0101\n",
    "result = x | y # perfroms bitwise OR on x and y\n",
    "print(result)"
   ]
  },
  {
   "cell_type": "markdown",
   "id": "c2755176-2881-4801-8b49-fc64d458d716",
   "metadata": {},
   "source": [
    "* ^ (bitwise XOR): x ^ y"
   ]
  },
  {
   "cell_type": "code",
   "execution_count": 34,
   "id": "985e5037-e492-4293-94ac-90b69a3c1667",
   "metadata": {},
   "outputs": [
    {
     "name": "stdout",
     "output_type": "stream",
     "text": [
      "4\n"
     ]
    }
   ],
   "source": [
    "x=6 # 0110\n",
    "y=5 # 0101\n",
    "result = x & y # perfroms bitwise XOR on x and y\n",
    "print(result)"
   ]
  },
  {
   "cell_type": "markdown",
   "id": "5bc89eae-9f72-48b7-b3ef-be240a4049c8",
   "metadata": {},
   "source": [
    "* ~ (bitwise NOT): ~x"
   ]
  },
  {
   "cell_type": "code",
   "execution_count": 35,
   "id": "29564025-a0c0-453e-aeac-68ab93d590f0",
   "metadata": {},
   "outputs": [
    {
     "name": "stdout",
     "output_type": "stream",
     "text": [
      "4\n"
     ]
    }
   ],
   "source": [
    "x=6 # 0110\n",
    "y=5 # 0101\n",
    "result = x & y # perfroms bitwise NOT on x and y\n",
    "print(result)"
   ]
  },
  {
   "cell_type": "markdown",
   "id": "0bcbd63e-04e8-40f0-a097-684c3b879b7c",
   "metadata": {},
   "source": [
    "6. Membership Operators:"
   ]
  },
  {
   "cell_type": "markdown",
   "id": "445946ad-dc04-4474-9965-dcd01785de1e",
   "metadata": {},
   "source": [
    "EXAMPLE"
   ]
  },
  {
   "cell_type": "code",
   "execution_count": 36,
   "id": "543f4db8-cf6b-4777-a26d-7b98cd94ce37",
   "metadata": {},
   "outputs": [
    {
     "name": "stdout",
     "output_type": "stream",
     "text": [
      "Yes,'banana' is a fruit\n"
     ]
    }
   ],
   "source": [
    "fruits = [\"apple\", \"banana\", \"cherry\"]\n",
    "for fruit in fruits: \"bannna\" \n",
    "print(\"Yes,'banana' is a fruit\")"
   ]
  },
  {
   "cell_type": "markdown",
   "id": "33dcb386-b8df-4a19-a5c4-20f7c797030e",
   "metadata": {},
   "source": [
    "7. Identity Operators:"
   ]
  },
  {
   "cell_type": "markdown",
   "id": "d5ecb30b-28be-4e12-8c74-3a0dd34ef6f0",
   "metadata": {},
   "source": [
    "EXAMPLE"
   ]
  },
  {
   "cell_type": "code",
   "execution_count": 37,
   "id": "9d803dec-0b04-4a1d-966f-28be65ba4972",
   "metadata": {},
   "outputs": [
    {
     "name": "stdout",
     "output_type": "stream",
     "text": [
      "x and y are differet objects\n",
      "x and z are the same object\n"
     ]
    }
   ],
   "source": [
    "x=5\n",
    "y=10\n",
    "z=5\n",
    "#Check if x and y refer to the same object in memory\n",
    "if x is y: \n",
    "    print(\"x and y are the same object\")\n",
    "else:\n",
    "    print(\"x and y are differet objects\")\n",
    "#Check if x and z refer to the same object in memory\n",
    "if x is z:\n",
    "    print(\"x and z are the same object\")\n",
    "else:\n",
    "    print(\"x and z are differet objects\")\n",
    "        "
   ]
  },
  {
   "cell_type": "markdown",
   "id": "8560239e-86b4-4858-ba19-ebc17fe60c90",
   "metadata": {},
   "source": [
    "Q5) Explain the concept of type casting in python with examples"
   ]
  },
  {
   "cell_type": "markdown",
   "id": "dc53fdf5-60fd-4178-8a24-50c5aa369362",
   "metadata": {},
   "source": [
    "Type casting in Python refers to the process of converting a value from one data type to another. This can be useful in various situations, such as:\n",
    "1) Performing operations on different data types\n",
    "2) Storing data in a specific format\n",
    "3) Ensuring compatibility with functions or libraries"
   ]
  },
  {
   "cell_type": "markdown",
   "id": "6fb8bdaf-e193-4607-9140-1f371cde90bd",
   "metadata": {},
   "source": [
    "1. Explicit Type Casting:"
   ]
  },
  {
   "cell_type": "markdown",
   "id": "90c97729-8a42-482e-bd28-a528fbdaab9b",
   "metadata": {},
   "source": [
    "* int(x):"
   ]
  },
  {
   "cell_type": "code",
   "execution_count": 39,
   "id": "264c46fe-8a80-4257-8177-d0f9944b7de0",
   "metadata": {},
   "outputs": [
    {
     "data": {
      "text/plain": [
       "5"
      ]
     },
     "execution_count": 39,
     "metadata": {},
     "output_type": "execute_result"
    }
   ],
   "source": [
    "int(5)"
   ]
  },
  {
   "cell_type": "markdown",
   "id": "0bfbbe3c-1854-48d4-aecd-a821588d536f",
   "metadata": {},
   "source": [
    "* float(x):"
   ]
  },
  {
   "cell_type": "code",
   "execution_count": 40,
   "id": "84059a3d-a378-4cc4-bb33-5079fb0c0903",
   "metadata": {},
   "outputs": [
    {
     "data": {
      "text/plain": [
       "5.0"
      ]
     },
     "execution_count": 40,
     "metadata": {},
     "output_type": "execute_result"
    }
   ],
   "source": [
    "float(5)"
   ]
  },
  {
   "cell_type": "markdown",
   "id": "fca90634-4658-422d-b2de-9472c2d83a15",
   "metadata": {},
   "source": [
    "* str(x):"
   ]
  },
  {
   "cell_type": "code",
   "execution_count": 41,
   "id": "bb98c5ab-9889-472c-9a1b-ff6c9092222e",
   "metadata": {},
   "outputs": [
    {
     "data": {
      "text/plain": [
       "'5'"
      ]
     },
     "execution_count": 41,
     "metadata": {},
     "output_type": "execute_result"
    }
   ],
   "source": [
    "str(5)"
   ]
  },
  {
   "cell_type": "markdown",
   "id": "88144129-9778-4609-8496-193cf090e111",
   "metadata": {},
   "source": [
    "Q6) how do conditional statement work in python. Illustrate with examples."
   ]
  },
  {
   "cell_type": "markdown",
   "id": "76340857-07bc-476a-a2e6-2beb745f0b41",
   "metadata": {},
   "source": [
    "Conditional statements in Python are fundamental building blocks for making decisions in your code"
   ]
  },
  {
   "cell_type": "markdown",
   "id": "acc275f9-3762-4f8a-8289-dd8d3b49da1f",
   "metadata": {},
   "source": [
    "1. if statement:"
   ]
  },
  {
   "cell_type": "code",
   "execution_count": 42,
   "id": "3234d9e8-bda0-42b2-afe2-08de0d5400e5",
   "metadata": {},
   "outputs": [
    {
     "name": "stdout",
     "output_type": "stream",
     "text": [
      "You are eligible to vote.\n"
     ]
    }
   ],
   "source": [
    "age = 20\n",
    "if age >= 18:\n",
    "    print(\"You are eligible to vote.\")\n",
    "else:\n",
    "    print(\"You are not eligible to vote yet.\")"
   ]
  },
  {
   "cell_type": "markdown",
   "id": "9d1324b4-0bd4-4dec-bcd2-57f9e2452168",
   "metadata": {},
   "source": [
    "2. if-else statement:"
   ]
  },
  {
   "cell_type": "code",
   "execution_count": 43,
   "id": "a3773d9f-4257-438d-9432-38cb9bda905a",
   "metadata": {},
   "outputs": [
    {
     "name": "stdout",
     "output_type": "stream",
     "text": [
      "Please register to access the system.\n"
     ]
    }
   ],
   "source": [
    "is_registered = False\n",
    "if is_registered:\n",
    "    print(\"You can access the system.\")\n",
    "else:\n",
    "    print(\"Please register to access the system.\")"
   ]
  },
  {
   "cell_type": "markdown",
   "id": "12aa0c27-fee6-4f01-aebc-1739098061d3",
   "metadata": {},
   "source": [
    "3. elif statement"
   ]
  },
  {
   "cell_type": "code",
   "execution_count": 44,
   "id": "a9ea6d6c-a201-40a3-8e6a-6ea6eabba261",
   "metadata": {},
   "outputs": [
    {
     "name": "stdout",
     "output_type": "stream",
     "text": [
      "Very good!\n"
     ]
    }
   ],
   "source": [
    "grade = 85\n",
    "if grade >= 90:\n",
    "    print(\"Excellent!\")\n",
    "elif grade >= 80:\n",
    "    print(\"Very good!\")\n",
    "else:\n",
    "    print(\"Keep practicing!\")"
   ]
  },
  {
   "cell_type": "markdown",
   "id": "34471889-f598-4899-a8dd-6ac6d3949629",
   "metadata": {},
   "source": [
    "Q7) Describe the different types loops in Python and their use cases with eamples ."
   ]
  },
  {
   "cell_type": "markdown",
   "id": "28de203f-be93-45b5-a191-55670b31c9ca",
   "metadata": {},
   "source": [
    "1. for loops:"
   ]
  },
  {
   "cell_type": "markdown",
   "id": "809e80aa-a67d-42b5-9193-100bc843545e",
   "metadata": {},
   "source": [
    "Use Cases:\n",
    "\n",
    "1)Processing elements in a sequence one by one.\n",
    "\n",
    "2)Traversing elements in a collection like a list, tuple, or string.\n",
    "\n",
    "3)Performing calculations or operations on each item in a sequence."
   ]
  },
  {
   "cell_type": "code",
   "execution_count": 45,
   "id": "3f7f4248-b6be-40b0-bf6b-462cd2ecf30c",
   "metadata": {},
   "outputs": [
    {
     "name": "stdout",
     "output_type": "stream",
     "text": [
      "apple\n",
      "banana\n",
      "cherry\n"
     ]
    }
   ],
   "source": [
    "fruits = [\"apple\", \"banana\", \"cherry\"]\n",
    "for fruit in fruits:\n",
    "    print(fruit)"
   ]
  },
  {
   "cell_type": "markdown",
   "id": "b516aecf-41a2-44f5-ae53-473eb9ad8afc",
   "metadata": {},
   "source": [
    "2. while loops:"
   ]
  },
  {
   "cell_type": "markdown",
   "id": "8709a6e6-0cae-46b1-ac2f-7558085a5847",
   "metadata": {},
   "source": [
    "Use Cases:\n",
    "    \n",
    "1)Repeating code until a specific condition is met.\n",
    "\n",
    "2)Creating user-interactive menus where the loop continues until the user chooses to exit.\n",
    "\n",
    "3)Performing calculations or operations until a certain threshold is reached."
   ]
  },
  {
   "cell_type": "code",
   "execution_count": 46,
   "id": "e0246b72-9870-4f88-9c32-d93b280fd0e5",
   "metadata": {},
   "outputs": [
    {
     "name": "stdout",
     "output_type": "stream",
     "text": [
      "0\n",
      "1\n",
      "2\n",
      "3\n",
      "4\n"
     ]
    }
   ],
   "source": [
    "count = 0\n",
    "while count < 5:\n",
    "    print(count)\n",
    "    count += 1"
   ]
  },
  {
   "cell_type": "markdown",
   "id": "d4533dd7-2c0e-4dff-9bc4-8863ed6ec8f4",
   "metadata": {},
   "source": [
    "3.break statement"
   ]
  },
  {
   "cell_type": "code",
   "execution_count": 47,
   "id": "4a246c1b-00e1-424a-aa42-25ac52ff5313",
   "metadata": {},
   "outputs": [
    {
     "name": "stdout",
     "output_type": "stream",
     "text": [
      "0\n",
      "1\n",
      "2\n",
      "Loop finished!\n"
     ]
    }
   ],
   "source": [
    "for i in range(5): \n",
    "    print(i)\n",
    "    if i == 2:\n",
    "        break  \n",
    "print(\"Loop finished!\")\n"
   ]
  },
  {
   "cell_type": "markdown",
   "id": "6d9bd553-3209-40e7-b4fd-01a1f1303917",
   "metadata": {},
   "source": [
    "4. continue statement"
   ]
  },
  {
   "cell_type": "code",
   "execution_count": 48,
   "id": "0e23d7a0-d22c-4a1d-a38f-bcbfa3d7a632",
   "metadata": {},
   "outputs": [
    {
     "name": "stdout",
     "output_type": "stream",
     "text": [
      "0\n",
      "1\n",
      "2\n",
      "3\n",
      "4\n",
      "5\n",
      "6\n",
      "7\n",
      "8\n",
      "loop finished\n"
     ]
    }
   ],
   "source": [
    "for i in range(9):\n",
    "    print(i)\n",
    "    if i == 5:\n",
    "        continue\n",
    "print(\"loop finished\")"
   ]
  }
 ],
 "metadata": {
  "kernelspec": {
   "display_name": "Python 3 (ipykernel)",
   "language": "python",
   "name": "python3"
  },
  "language_info": {
   "codemirror_mode": {
    "name": "ipython",
    "version": 3
   },
   "file_extension": ".py",
   "mimetype": "text/x-python",
   "name": "python",
   "nbconvert_exporter": "python",
   "pygments_lexer": "ipython3",
   "version": "3.10.8"
  }
 },
 "nbformat": 4,
 "nbformat_minor": 5
}
